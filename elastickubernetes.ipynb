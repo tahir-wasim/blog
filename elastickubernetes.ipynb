{
 "cells": [
  {
   "cell_type": "markdown",
   "metadata": {},
   "source": []
  },
  {
   "cell_type": "markdown",
   "metadata": {},
   "source": [
    "## Elasticsearch when you need it\n",
    "Elasticsearch is a powerful tool for searching through and aggregating over disjoint, unstructured data.  We find it especially useful in exploring large data sets.  Its flexibility and variety of aggregations help us to quickly identify interesting patterns that we may like to investigate further.  \n",
    "\n",
    "As a search server, Elasticsearch's power lies in its distributed nature.  Horizontal scaling allows us to perform complex searches and aggregations over millions of documents in a few seconds.  This comes at a cost, though - of the real, financial variety. Running a large Elasticsearch cluster on a PaaS can incur significant expenses, as you are essentially renting computing power. \n",
    "\n",
    "You don't want to pay for machines when they are not in use. For example, if you are using Elasticsearch during regular work days, you would ideally not want to incur the costs of machines sitting there idly in between.  We have found, fortunately, that we can save significant amounts of money by taking advantage of Docker technology managed by Kubernetes in Google Cloud.  If you haven't heard of, or tried, Kubernetes, check it out!  We recently made the switch from Tutum, and we're a lot happier now.  \n",
    "\n",
    "It turns out that deploying a Dockerized Elasticsearch cluster in Kubernetes is actually pretty easy.  Additionally, bringing up the cluster and tearing it down when it is not in use can be done with a couple of scripts.  Leveraging Elasticsearch 2.3's backup and restore features, we can save our data to an HDFS storage solution and restore it upon creation of the cluster.  This post will discuss creating a Kubernetes cluster in Google Cloud, deploying our Dockerized Elasticsearch cluster within Kubernetes, and backing up and restoring from Google Storage's HDFS service."
   ]
  },
  {
   "cell_type": "markdown",
   "metadata": {
    "collapsed": true
   },
   "source": [
    "## Install gcloud and kubernetes\n",
    "You will first need to make sure you have the gcloud command line utility installed, along with kubectl.  If you already have gcloud, you can install kubectl using the command:\n",
    "```\n",
    "glcoud components install kubectl\n",
    "```"
   ]
  },
  {
   "cell_type": "code",
   "execution_count": null,
   "metadata": {
    "collapsed": false
   },
   "outputs": [],
   "source": [
    "!gcloud config set project elasticsearch-project\n",
    "!gcloud container clusters get-credentials elasticsearch-kubernetes"
   ]
  },
  {
   "cell_type": "markdown",
   "metadata": {},
   "source": [
    "<img src=https://zwischenzugs.files.wordpress.com/2015/08/pods.jpg width=640 height=480/>"
   ]
  },
  {
   "cell_type": "markdown",
   "metadata": {},
   "source": [
    "# Pods\n",
    "## What is a pod?\n",
    "A pod (as in a pod of whales or pea pod) is a group of one or more containers (such as Docker containers), the shared storage for those containers, and options about how to run the containers. \n",
    "A pod can be defined on its own without a service that ensures its replacement if it goes down.  More often, though, it is described in a **Deployment** or **Replication Controller** that try to maintain a given number of replica pods at all times.\n",
    "\n",
    "### Important info contained in the Deployment/Pod Template:\n",
    "- Number of replicas\n",
    "- Description of containers:\n",
    "    - Image name\n",
    "    - Ports to expose\n",
    "        - containerPort exposes port on container. If 'port' (pod's port) is not defined, it is set to containerPort\n",
    "    - Environment variables\n",
    "- ServiceAccount: provides identity for processes that run in a pod\n",
    "- Readiness probe: an endpoint that should return 200 when the pod is ready\n"
   ]
  },
  {
   "cell_type": "code",
   "execution_count": null,
   "metadata": {
    "collapsed": false
   },
   "outputs": [],
   "source": [
    "!cat kubernetes/testing/recommendation-engine/deploy.yml"
   ]
  },
  {
   "cell_type": "code",
   "execution_count": null,
   "metadata": {
    "collapsed": false
   },
   "outputs": [],
   "source": [
    "!kubectl get deployments"
   ]
  },
  {
   "cell_type": "code",
   "execution_count": null,
   "metadata": {
    "collapsed": false
   },
   "outputs": [],
   "source": [
    "!kubectl describe deployment semantify"
   ]
  },
  {
   "cell_type": "code",
   "execution_count": null,
   "metadata": {
    "collapsed": false
   },
   "outputs": [],
   "source": [
    "!kubectl get pods"
   ]
  },
  {
   "cell_type": "markdown",
   "metadata": {},
   "source": [
    "You can get the make-up of a pod, service, deployment etc. by using *kubectl get <type>* and output flag (-o yaml)"
   ]
  },
  {
   "cell_type": "code",
   "execution_count": null,
   "metadata": {
    "collapsed": false,
    "scrolled": true
   },
   "outputs": [],
   "source": [
    "!kubectl get pod semantify-2835096483-g5d86 -o yaml"
   ]
  },
  {
   "cell_type": "markdown",
   "metadata": {},
   "source": [
    "# Services\n",
    "## What is a service?\n",
    "A Kubernetes Service is an abstraction which defines a logical set of Pods and a policy by which to access them - sometimes called a micro-service. The set of Pods targeted by a Service is (usually) determined by a Label Selector.\n",
    "\n",
    "### Important info contained in service\n",
    "- The selector for pods - must match the metadata in the pod template\n",
    "- Ports: The port your service exposes to outside components, and the target port on the pod\n",
    "- Type of service:\n",
    "    \n",
    "    - ClusterIP: default; only has cluster-specific IP address; accessible only in cluster\n",
    "    - NodePort: has Cluster IP, and opens a specific port on each node of cluster that you can talk to\n",
    "    - LoadBalancer: exposes to the world, has an external IP address and exposed port"
   ]
  },
  {
   "cell_type": "code",
   "execution_count": null,
   "metadata": {
    "collapsed": false
   },
   "outputs": [],
   "source": [
    "!cat kubernetes/testing/recommendation-engine/service.yml"
   ]
  },
  {
   "cell_type": "code",
   "execution_count": null,
   "metadata": {
    "collapsed": false
   },
   "outputs": [],
   "source": [
    "!kubectl get services"
   ]
  },
  {
   "cell_type": "markdown",
   "metadata": {},
   "source": [
    "# DNS\n",
    "\n",
    "Services in kubernetes are registered with its internal DNS in the following format:\n",
    "\n",
    "`<ServiceName>`.`<namespace>`.svc.cluster.local\n",
    "\n",
    "eg: semantify.default.svc.cluster.local is the internal address of the semantify service in the Kubernetes cluster\n"
   ]
  },
  {
   "cell_type": "code",
   "execution_count": null,
   "metadata": {
    "collapsed": false
   },
   "outputs": [],
   "source": [
    "cd kubernetes/testing"
   ]
  },
  {
   "cell_type": "markdown",
   "metadata": {},
   "source": [
    "##### You can create a pod, deployment etc by using *kubectl create* with a file flag (-f)"
   ]
  },
  {
   "cell_type": "code",
   "execution_count": null,
   "metadata": {
    "collapsed": false
   },
   "outputs": [],
   "source": [
    "!kubectl create -f recommendation-engine/deploy.yml"
   ]
  },
  {
   "cell_type": "code",
   "execution_count": null,
   "metadata": {
    "collapsed": false
   },
   "outputs": [],
   "source": [
    "!kubectl get deployments\n",
    "!kubectl get pods"
   ]
  },
  {
   "cell_type": "markdown",
   "metadata": {},
   "source": [
    "##### Create multiple deployments and services at a time"
   ]
  },
  {
   "cell_type": "code",
   "execution_count": null,
   "metadata": {
    "collapsed": false
   },
   "outputs": [],
   "source": [
    "!kubectl create -f recommendation-engine/deploy.yml\n",
    "!kubectl create -f recommendation-engine/service.yml -f rabbitmq/deploy.yml -f rabbitmq/services.yml\n",
    "!kubectl create -f redis/deploy.yml -f redis/service.yml\n",
    "!kubectl create -f elasticsearch/client-deploy.yml -f elasticsearch/master-deploy.yml -f elasticsearch/data-deploy.yml\n",
    "!kubectl create -f elasticsearch/services.yml\n",
    "!kubectl create -f event-processor/deploy.yml\n",
    "!kubectl create -f event-tracker/deploy.yml -f event-tracker/service.yml"
   ]
  },
  {
   "cell_type": "code",
   "execution_count": null,
   "metadata": {
    "collapsed": false,
    "scrolled": true
   },
   "outputs": [],
   "source": [
    "!kubectl get services\n",
    "!kubectl get deployments\n",
    "!kubectl get pods"
   ]
  },
  {
   "cell_type": "markdown",
   "metadata": {},
   "source": [
    "You can use your yml files to delete resources using the exact same format, replacing create with delete, as long as the metadata pertaining to the resource is the same."
   ]
  },
  {
   "cell_type": "code",
   "execution_count": null,
   "metadata": {
    "collapsed": false
   },
   "outputs": [],
   "source": [
    "!kubectl delete -f recommendation-engine/deploy.yml\n",
    "!kubectl delete -f recommendation-engine/service.yml -f rabbitmq/deploy.yml -f rabbitmq/services.yml\n",
    "!kubectl delete -f redis/deploy.yml -f redis/service.yml\n",
    "!kubectl delete -f elasticsearch/client-deploy.yml -f elasticsearch/master-deploy.yml -f elasticsearch/data-deploy.yml\n",
    "!kubectl delete -f elasticsearch/services.yml\n",
    "!kubectl delete -f event-processor/deploy.yml\n",
    "!kubectl delete -f event-tracker/deploy.yml -f event-tracker/service.yml"
   ]
  },
  {
   "cell_type": "markdown",
   "metadata": {},
   "source": [
    "##### You can update a deployment just as easily, for purposes such as:\n",
    "- Scaling number of pods\n",
    "- Updating the container image\n",
    "\n",
    "Let's change the Recommendation Engine to version:    0.21-c9c8528"
   ]
  },
  {
   "cell_type": "code",
   "execution_count": null,
   "metadata": {
    "collapsed": false
   },
   "outputs": [],
   "source": [
    "!kubectl apply -f recommendation-engine/deploy.yml --record"
   ]
  },
  {
   "cell_type": "markdown",
   "metadata": {},
   "source": [
    "##### The default deploy strategy is a *rolling deployment*.  The *readiness probe* can be used to tell when the new pod is ready to handle traffic"
   ]
  },
  {
   "cell_type": "markdown",
   "metadata": {},
   "source": [
    "#### Rollout history is stored in kubernetes"
   ]
  },
  {
   "cell_type": "code",
   "execution_count": null,
   "metadata": {
    "collapsed": false
   },
   "outputs": [],
   "source": [
    "!kubectl rollout history deployment/wisdom-recommendation-engine"
   ]
  },
  {
   "cell_type": "markdown",
   "metadata": {},
   "source": [
    "##### You can roll back a deployment with a single line"
   ]
  },
  {
   "cell_type": "code",
   "execution_count": null,
   "metadata": {
    "collapsed": false
   },
   "outputs": [],
   "source": [
    "!kubectl rollout undo deployment/wisdom-recommendation-engine"
   ]
  },
  {
   "cell_type": "markdown",
   "metadata": {},
   "source": [
    "You can also use the revision flag (eg. --revision=6) to  specify the revision to roll back to."
   ]
  }
 ],
 "metadata": {
  "kernelspec": {
   "display_name": "Python 2",
   "language": "python",
   "name": "python2"
  },
  "language_info": {
   "codemirror_mode": {
    "name": "ipython",
    "version": 2
   },
   "file_extension": ".py",
   "mimetype": "text/x-python",
   "name": "python",
   "nbconvert_exporter": "python",
   "pygments_lexer": "ipython2",
   "version": "2.7.10"
  }
 },
 "nbformat": 4,
 "nbformat_minor": 0
}
